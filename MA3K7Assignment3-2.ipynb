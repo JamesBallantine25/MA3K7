{
 "cells": [
  {
   "cell_type": "code",
   "execution_count": 38,
   "id": "04d1c120-0bd1-410f-991d-5428f1dd3f8b",
   "metadata": {},
   "outputs": [
    {
     "data": {
      "image/png": "[encoded data removed]",
      "text/plain": [
       "<Figure size 432x288 with 1 Axes>"
      ]
     },
     "metadata": {
      "needs_background": "light"
     },
     "output_type": "display_data"
    },
    {
     "name": "stdout",
     "output_type": "stream",
     "text": [
      "335.7386\n"
     ]
    }
   ],
   "source": [
    "import random\n",
    "import numpy as np\n",
    "import matplotlib.pyplot as plt\n",
    "from scipy.stats import expon\n",
    "from scipy import stats\n",
    "list = []\n",
    "list2 = []\n",
    "figures = []\n",
    "\n",
    "for y in range(10000):\n",
    "    list = []\n",
    "    for i in range(1, 2025):\n",
    "        list.append(i)\n",
    "    for x in range(2023):\n",
    "        sample = random.sample(list,2)\n",
    "        t= abs(sample[0] - sample[1])\n",
    "        list.remove(sample[0])\n",
    "        list.remove(sample[1])\n",
    "        list.append(t)\n",
    "        list2.append(t)\n",
    "    figures.append(list[0])\n",
    "\n",
    "avg = np.mean(figures)\n",
    "plt.hist(figures, range(0, 2025))\n",
    "plt.show()\n",
    "print(avg)\n"
   ]
  },
  {
   "cell_type": "code",
   "execution_count": null,
   "id": "90649d55-3c04-46ce-a01f-6581e82e4fd4",
   "metadata": {},
   "outputs": [],
   "source": []
  },
  {
   "cell_type": "code",
   "execution_count": null,
   "id": "7f0427ae-980e-4d13-9d2b-6da4747321ce",
   "metadata": {},
   "outputs": [],
   "source": []
  }
 ],
 "metadata": {
  "kernelspec": {
   "display_name": "Python 3 (ipykernel)",
   "language": "python",
   "name": "python3"
  },
  "language_info": {
   "codemirror_mode": {
    "name": "ipython",
    "version": 3
   },
   "file_extension": ".py",
   "mimetype": "text/x-python",
   "name": "python",
   "nbconvert_exporter": "python",
   "pygments_lexer": "ipython3",
   "version": "3.9.7"
  }
 },
 "nbformat": 4,
 "nbformat_minor": 5
}
