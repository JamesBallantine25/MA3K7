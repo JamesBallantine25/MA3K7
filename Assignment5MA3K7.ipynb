{
 "cells": [
  {
   "cell_type": "code",
   "execution_count": 42,
   "id": "e2f2df13-2926-4257-a1fc-c87b93e4456a",
   "metadata": {},
   "outputs": [
    {
     "name": "stdout",
     "output_type": "stream",
     "text": [
      "2.0\n",
      "9542.0\n"
     ]
    }
   ],
   "source": [
    "p = 0.5\n",
    "q = 1/p\n",
    "exp3 = q*q + q\n",
    "print(q)\n",
    "\n",
    "exp5 = (exp3 + q + 1)*(q) \n",
    "exp7 = (exp5 + q + 1)*q\n",
    "exp10 = (exp7 + q*q + 1)*(q)\n",
    "exp13 = (exp10 + q*q + 1)*q -(q-1)*(exp3)\n",
    "exp17 = (exp13 + q*q*q + 1)*q -(q-1)*(exp5)\n",
    "exp21 = (exp17 + q*q*q + 1)*q -(q-1)*(exp7)\n",
    "exp26 = (exp21 + q*q*q*q + 1)*q -(q-1)*(exp10)\n",
    "exp31 = (exp26 + q*q*q*q + 1)*q -(q-1)*(exp13)\n",
    "exp36 = (exp31 + q*q*q*q*q + 1)*q -(q-1)*(exp17)\n",
    "exp43 = (exp36 + q*q*q*q*q + 1)*q -(q-1)*(exp21)\n",
    "\n",
    "exp50 = exp43 + q*q*q*q*q*q\n",
    "\n",
    "print(exp50)"
   ]
  },
  {
   "cell_type": "code",
   "execution_count": null,
   "id": "62a7c137-31b1-47a9-adbb-aab052061f56",
   "metadata": {},
   "outputs": [],
   "source": []
  },
  {
   "cell_type": "code",
   "execution_count": null,
   "id": "eea3b8ad-8d76-4a1e-ba60-177e0d443960",
   "metadata": {},
   "outputs": [],
   "source": []
  }
 ],
 "metadata": {
  "kernelspec": {
   "display_name": "Python 3 (ipykernel)",
   "language": "python",
   "name": "python3"
  },
  "language_info": {
   "codemirror_mode": {
    "name": "ipython",
    "version": 3
   },
   "file_extension": ".py",
   "mimetype": "text/x-python",
   "name": "python",
   "nbconvert_exporter": "python",
   "pygments_lexer": "ipython3",
   "version": "3.9.7"
  }
 },
 "nbformat": 4,
 "nbformat_minor": 5
}
