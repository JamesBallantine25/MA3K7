{
 "cells": [
  {
   "cell_type": "code",
   "execution_count": 32,
   "id": "8e596ec3-a518-45fb-bf1f-b1cbec5aaefa",
   "metadata": {},
   "outputs": [
    {
     "name": "stdout",
     "output_type": "stream",
     "text": [
      "[0, 0.14750698443475552, 0.09966194584014258, 0.0007061396639007259, 0]\n"
     ]
    }
   ],
   "source": [
    "#Setting up n=5 case and running it for a long period of time to see, \n",
    "#the code will give an output prompt if one of the glasses is over half full on ali's turn, \n",
    "#as this is how he is able to win.\n",
    "import random\n",
    "import numpy as np\n",
    "m= 5\n",
    "C2= [0]*m\n",
    "x = 0\n",
    "while x < 100000: \n",
    "    top = max(C2)\n",
    "    if top > 0.5:\n",
    "        print(\"winner\")\n",
    "        print(x)\n",
    "        break\n",
    "    r4 = random.randint(1, m+1)\n",
    "    q = 0.5\n",
    "    j=0\n",
    "    while j < r4:\n",
    "        if j == m:\n",
    "            r8 = random.randint(0, m-1)\n",
    "            C2[r8] = C2[r8]+q\n",
    "        else:\n",
    "            r5 = random.uniform(0, q)\n",
    "            r6 = random.randint(0, m-1)\n",
    "            C2[r6] = C2[r6] + r5\n",
    "            q = q - r5\n",
    "        j =j+1 \n",
    "    D =[]\n",
    "    D.append(C2[0]+C2[1])\n",
    "    D.append(C2[1]+C2[2])\n",
    "    D.append(C2[2]+C2[3])\n",
    "    D.append(C2[3]+C2[4])\n",
    "    D.append(C2[4]+C2[0])\n",
    "    w = D.index(max(D))\n",
    "    if w == 0:\n",
    "        C2[0] = 0\n",
    "        C2[1] = 0\n",
    "    elif w == 1:\n",
    "        C2[1] = 0\n",
    "        C2[2] = 0\n",
    "    elif w == 2:\n",
    "        C2[2] = 0\n",
    "        C2[3] = 0\n",
    "    elif w == 3:\n",
    "        C2[3] = 0\n",
    "        C2[4] = 0\n",
    "    elif w == 4:\n",
    "        C2[4] = 0\n",
    "        C2[0] = 0\n",
    "    x = x+1\n",
    "print(C2)\n"
   ]
  },
  {
   "cell_type": "code",
   "execution_count": 56,
   "id": "6088d5c8-b446-4324-a102-f7a14d265915",
   "metadata": {},
   "outputs": [
    {
     "name": "stdout",
     "output_type": "stream",
     "text": [
      "1.2499999999999971\n"
     ]
    }
   ],
   "source": [
    "#calculating maximum water that can exist in the circle,\n",
    "#provided Beth removes as much as possible. \n",
    "\n",
    "f = 7\n",
    "k = 0\n",
    "r = 0\n",
    "while k < 100:\n",
    "    r = r + 0.5\n",
    "    r = r*((f-2)/f)\n",
    "    k = k+1\n",
    "    \n",
    "print(r)"
   ]
  },
  {
   "cell_type": "code",
   "execution_count": 72,
   "id": "947f1d5e-57e9-45c7-90c2-966780467e38",
   "metadata": {},
   "outputs": [
    {
     "name": "stdout",
     "output_type": "stream",
     "text": [
      "0.34423354423354424\n"
     ]
    }
   ],
   "source": [
    "# finding minimum value of n to solve \n",
    "#one of my extension equations\n",
    "\n",
    "x = 16\n",
    "y = 5 #y=5 for odd n, y=6 for even n, the number of glasses \n",
    "      #remaining after completete the first process.\n",
    "z = 0\n",
    "while y < x:\n",
    "    z = z + 1/(2*y)\n",
    "    y = y + 2\n",
    "print(z)"
   ]
  },
  {
   "cell_type": "code",
   "execution_count": 71,
   "id": "50d639f4-2456-4bc5-b830-4a402aa5389b",
   "metadata": {},
   "outputs": [
    {
     "name": "stdout",
     "output_type": "stream",
     "text": [
      "19\n",
      "51\n",
      "52\n",
      "53\n",
      "73\n",
      "74\n",
      "75\n"
     ]
    }
   ],
   "source": [
    "#This code finds the number of turns taken for Ali to win, if Ali and Beth act randomly.\n",
    "\n",
    "# Ali's turns are not entirely random. He first randomly selects a number from 1 to n, let that be p\n",
    "# and then he splits his half pint equally into p parts, and randomly distributes the parts, allowing\n",
    "# repeats.\n",
    "import random\n",
    "import numpy as np\n",
    "\n",
    "n = 5\n",
    "C = [0]*n\n",
    "x = 0\n",
    "\n",
    "while x <100:\n",
    "    r1 = random.randint(1, n-1)\n",
    "    p = 0.5/r1\n",
    "    i=0\n",
    "    while i < r1:\n",
    "        r2 = random.randint(0, n-1)\n",
    "        C[r2]+= p\n",
    "        i= i+1\n",
    "    r3 = random.randint(0, n-1)\n",
    "    if r3 == 0:\n",
    "        C[0] = 0\n",
    "        C[1] = 0\n",
    "    elif r3 == n-1:\n",
    "        C[0] = 0\n",
    "        C[n-1]=0\n",
    "    else:\n",
    "        C[r3]=0\n",
    "        C[r3+1]=0\n",
    "    x=x+1\n",
    "    if any(num > 1 for num in C):\n",
    "        print(x)\n"
   ]
  },
  {
   "cell_type": "code",
   "execution_count": null,
   "id": "be8f3168-4416-4092-a555-595d21a45ba8",
   "metadata": {},
   "outputs": [],
   "source": []
  },
  {
   "cell_type": "code",
   "execution_count": null,
   "id": "44712513-f3ef-4015-9621-121e92bc89eb",
   "metadata": {},
   "outputs": [],
   "source": []
  }
 ],
 "metadata": {
  "kernelspec": {
   "display_name": "Python 3 (ipykernel)",
   "language": "python",
   "name": "python3"
  },
  "language_info": {
   "codemirror_mode": {
    "name": "ipython",
    "version": 3
   },
   "file_extension": ".py",
   "mimetype": "text/x-python",
   "name": "python",
   "nbconvert_exporter": "python",
   "pygments_lexer": "ipython3",
   "version": "3.9.7"
  }
 },
 "nbformat": 4,
 "nbformat_minor": 5
}
