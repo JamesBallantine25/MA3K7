{
 "cells": [
  {
   "cell_type": "code",
   "execution_count": 1,
   "id": "d693cb42-5062-4ee9-ac76-b7c0f3cf1b48",
   "metadata": {},
   "outputs": [
    {
     "name": "stdout",
     "output_type": "stream",
     "text": [
      "[ 1.  +0.j -0.75+0.j]\n"
     ]
    }
   ],
   "source": [
    "import numpy as np #obtaining the 2 roots of the characteristic poylnomial\n",
    "from scipy import linalg as LA\n",
    "A= np.array([[0.25,0.75],[1,0]])\n",
    "lam, P = LA.eig(A)\n",
    "print(lam)"
   ]
  },
  {
   "cell_type": "code",
   "execution_count": 2,
   "id": "342ebf9d-0fab-4976-912d-bfcbb4021c15",
   "metadata": {},
   "outputs": [
    {
     "name": "stdout",
     "output_type": "stream",
     "text": [
      "[ 0.71428571+0.j -0.38095238+0.j]\n"
     ]
    }
   ],
   "source": [
    "import numpy as np #using a linear algebra tool to obtain constants a and b in the equation\n",
    "from scipy import linalg as LA\n",
    "A = np.array([[lam[0], lam[1]], [lam[0]**2, lam[1]**2]])\n",
    "b = np.array([1, 0.5])\n",
    "C = LA.solve(A,b)\n",
    "print(C)"
   ]
  },
  {
   "cell_type": "code",
   "execution_count": 3,
   "id": "d85e9a1a-efe3-44e4-8d4c-9254998ceabd",
   "metadata": {},
   "outputs": [
    {
     "name": "stdout",
     "output_type": "stream",
     "text": [
      "(0.7145723975078724+0j)\n"
     ]
    }
   ],
   "source": [
    "p = C[0]*(lam[0]**25) + C[1]*(lam[1]**25) #solve the equation for the probability of landing on step 25\n",
    "print(p)"
   ]
  },
  {
   "cell_type": "code",
   "execution_count": 39,
   "id": "79f6402e-cc2c-4a41-ad2c-95119b569aa5",
   "metadata": {},
   "outputs": [
    {
     "name": "stdout",
     "output_type": "stream",
     "text": [
      "[3, 5, 6, 7, 9, 10, 12, 14, 16, 17, 18, 20, 22, 24, 25, 26, 27, 28, 30, 31, 32, 34, 35, 37, 38]\n"
     ]
    }
   ],
   "source": [
    "import random #this code simulates the game, collecting the value of each step that was landed on.\n",
    "n=1\n",
    "step=1\n",
    "d =[]\n",
    "while n<=25:\n",
    "    c = random.choice([1, 2])\n",
    "    step += c\n",
    "    n+=1\n",
    "    d.append(step)\n",
    "\n",
    "print(d)"
   ]
  },
  {
   "cell_type": "code",
   "execution_count": 47,
   "id": "112ca134-37e0-4457-b702-534834ee4317",
   "metadata": {},
   "outputs": [
    {
     "name": "stdout",
     "output_type": "stream",
     "text": [
      "6704\n"
     ]
    }
   ],
   "source": [
    "n= 1 #repeat the exercise 10,000 times and return how many times 25 was landed on\n",
    "d =[]\n",
    "\n",
    "while n<=10000:\n",
    "    step=1\n",
    "    m=1\n",
    "    while m<25:\n",
    "        c = random.choice([1, 2])\n",
    "        step += c\n",
    "        m +=1\n",
    "        d.append(step)\n",
    "    n+=1\n",
    "print(d.count(25))\n"
   ]
  },
  {
   "cell_type": "code",
   "execution_count": null,
   "id": "283723a0-944f-45a2-9685-2180e1804a4a",
   "metadata": {},
   "outputs": [],
   "source": []
  }
 ],
 "metadata": {
  "kernelspec": {
   "display_name": "Python 3 (ipykernel)",
   "language": "python",
   "name": "python3"
  },
  "language_info": {
   "codemirror_mode": {
    "name": "ipython",
    "version": 3
   },
   "file_extension": ".py",
   "mimetype": "text/x-python",
   "name": "python",
   "nbconvert_exporter": "python",
   "pygments_lexer": "ipython3",
   "version": "3.9.7"
  }
 },
 "nbformat": 4,
 "nbformat_minor": 5
}
